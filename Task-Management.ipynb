{
 "cells": [
  {
   "cell_type": "code",
   "execution_count": 1,
   "id": "e5bec175-8b69-4368-a8c5-da55896c93ee",
   "metadata": {},
   "outputs": [
    {
     "name": "stdout",
     "output_type": "stream",
     "text": [
      "Task Management App\n",
      "1. Add Task\n",
      "2. Remove Task\n",
      "3. List Tasks\n",
      "4. Prioritize Tasks\n",
      "5. Recommend Tasks\n",
      "6. Exit\n"
     ]
    },
    {
     "name": "stdin",
     "output_type": "stream",
     "text": [
      "Enter your choice:  1\n",
      "Enter task title:  ssc\n",
      "Enter task description:  1\n",
      "Enter task priority (1-5):  1\n"
     ]
    },
    {
     "name": "stdout",
     "output_type": "stream",
     "text": [
      "Task 'ssc' added successfully!\n",
      "Task Management App\n",
      "1. Add Task\n",
      "2. Remove Task\n",
      "3. List Tasks\n",
      "4. Prioritize Tasks\n",
      "5. Recommend Tasks\n",
      "6. Exit\n"
     ]
    },
    {
     "name": "stdin",
     "output_type": "stream",
     "text": [
      "Enter your choice:  2\n",
      "Enter task title to remove:  inter\n"
     ]
    },
    {
     "name": "stdout",
     "output_type": "stream",
     "text": [
      "Task 'inter' not found!\n",
      "Task Management App\n",
      "1. Add Task\n",
      "2. Remove Task\n",
      "3. List Tasks\n",
      "4. Prioritize Tasks\n",
      "5. Recommend Tasks\n",
      "6. Exit\n"
     ]
    },
    {
     "name": "stdin",
     "output_type": "stream",
     "text": [
      "Enter your choice:  1\n",
      "Enter task title:  inter\n",
      "Enter task description:  college\n",
      "Enter task priority (1-5):  2\n"
     ]
    },
    {
     "name": "stdout",
     "output_type": "stream",
     "text": [
      "Task 'inter' added successfully!\n",
      "Task Management App\n",
      "1. Add Task\n",
      "2. Remove Task\n",
      "3. List Tasks\n",
      "4. Prioritize Tasks\n",
      "5. Recommend Tasks\n",
      "6. Exit\n"
     ]
    },
    {
     "name": "stdin",
     "output_type": "stream",
     "text": [
      "Enter your choice:  3\n"
     ]
    },
    {
     "name": "stdout",
     "output_type": "stream",
     "text": [
      "ssc - 1 - Priority: 1 - Completed: False\n",
      "inter - college - Priority: 2 - Completed: False\n",
      "Task Management App\n",
      "1. Add Task\n",
      "2. Remove Task\n",
      "3. List Tasks\n",
      "4. Prioritize Tasks\n",
      "5. Recommend Tasks\n",
      "6. Exit\n"
     ]
    },
    {
     "name": "stdin",
     "output_type": "stream",
     "text": [
      "Enter your choice:  4\n"
     ]
    },
    {
     "name": "stdout",
     "output_type": "stream",
     "text": [
      "Tasks prioritized successfully!\n",
      "Task Management App\n",
      "1. Add Task\n",
      "2. Remove Task\n",
      "3. List Tasks\n",
      "4. Prioritize Tasks\n",
      "5. Recommend Tasks\n",
      "6. Exit\n"
     ]
    },
    {
     "name": "stdin",
     "output_type": "stream",
     "text": [
      "Enter your choice:  5\n",
      "Enter task description to recommend:  inter\n"
     ]
    },
    {
     "name": "stdout",
     "output_type": "stream",
     "text": [
      "No recommended tasks found!\n",
      "Task Management App\n",
      "1. Add Task\n",
      "2. Remove Task\n",
      "3. List Tasks\n",
      "4. Prioritize Tasks\n",
      "5. Recommend Tasks\n",
      "6. Exit\n"
     ]
    },
    {
     "name": "stdin",
     "output_type": "stream",
     "text": [
      "Enter your choice:  5\n",
      "Enter task description to recommend:  inter\n"
     ]
    },
    {
     "name": "stdout",
     "output_type": "stream",
     "text": [
      "No recommended tasks found!\n",
      "Task Management App\n",
      "1. Add Task\n",
      "2. Remove Task\n",
      "3. List Tasks\n",
      "4. Prioritize Tasks\n",
      "5. Recommend Tasks\n",
      "6. Exit\n"
     ]
    },
    {
     "name": "stdin",
     "output_type": "stream",
     "text": [
      "Enter your choice:  6\n"
     ]
    },
    {
     "name": "stdout",
     "output_type": "stream",
     "text": [
      "Bye\n"
     ]
    }
   ],
   "source": [
    "import datetime\n",
    "\n",
    "class Task:\n",
    "    def __init__(self, title, description, priority):\n",
    "        self.title = title\n",
    "        self.description = description\n",
    "        self.priority = priority\n",
    "        self.completed = False\n",
    "        self.created_on = datetime.datetime.now()\n",
    "        self.updated_on = datetime.datetime.now()\n",
    "\n",
    "    def __str__(self):\n",
    "        return f\"{self.title} - {self.description} - Priority: {self.priority} - Completed: {self.completed}\"\n",
    "\n",
    "class TaskManager:\n",
    "    def __init__(self):\n",
    "        self.tasks = []\n",
    "\n",
    "    def add_task(self, title, description, priority):\n",
    "        task = Task(title, description, priority)\n",
    "        self.tasks.append(task)\n",
    "        print(f\"Task '{title}' added successfully!\")\n",
    "\n",
    "    def remove_task(self, title):\n",
    "        for task in self.tasks:\n",
    "            if task.title == title:\n",
    "                self.tasks.remove(task)\n",
    "                print(f\"Task '{title}' removed successfully!\")\n",
    "                return\n",
    "        print(f\"Task '{title}' not found!\")\n",
    "\n",
    "    def list_tasks(self):\n",
    "        for task in self.tasks:\n",
    "            print(task)\n",
    "\n",
    "    def prioritize_tasks(self):\n",
    "        self.tasks.sort(key=lambda x: x.priority, reverse=True)\n",
    "        print(\"Tasks prioritized successfully!\")\n",
    "\n",
    "    def recommend_tasks(self, description):\n",
    "        recommended_tasks = [task for task in self.tasks if description in task.description]\n",
    "        if recommended_tasks:\n",
    "            print(\"Recommended tasks:\")\n",
    "            for task in recommended_tasks:\n",
    "                print(task)\n",
    "        else:\n",
    "            print(\"No recommended tasks found!\")\n",
    "\n",
    "def main():\n",
    "    task_manager = TaskManager()\n",
    "\n",
    "    while True:\n",
    "        print(\"Task Management App\")\n",
    "        print(\"1. Add Task\")\n",
    "        print(\"2. Remove Task\")\n",
    "        print(\"3. List Tasks\")\n",
    "        print(\"4. Prioritize Tasks\")\n",
    "        print(\"5. Recommend Tasks\")\n",
    "        print(\"6. Exit\")\n",
    "\n",
    "        choice = input(\"Enter your choice: \")\n",
    "\n",
    "        if choice == \"1\":\n",
    "            title = input(\"Enter task title: \")\n",
    "            description = input(\"Enter task description: \")\n",
    "            priority = int(input(\"Enter task priority (1-5): \"))\n",
    "            task_manager.add_task(title, description, priority)\n",
    "        elif choice == \"2\":\n",
    "            title = input(\"Enter task title to remove: \")\n",
    "            task_manager.remove_task(title)\n",
    "        elif choice == \"3\":\n",
    "            task_manager.list_tasks()\n",
    "        elif choice == \"4\":\n",
    "            task_manager.prioritize_tasks()\n",
    "        elif choice == \"5\":\n",
    "            description = input(\"Enter task description to recommend: \")\n",
    "            task_manager.recommend_tasks(description)\n",
    "        elif choice == \"6\":\n",
    "            print(\"Bye\")\n",
    "            break\n",
    "        else:\n",
    "            print(\"Invalid choice. Please try again!\")\n",
    "\n",
    "if __name__ == \"__main__\":\n",
    "    main()"
   ]
  },
  {
   "cell_type": "code",
   "execution_count": null,
   "id": "6075c56f-03f6-446e-bc49-342e53e93b12",
   "metadata": {},
   "outputs": [],
   "source": []
  }
 ],
 "metadata": {
  "kernelspec": {
   "display_name": "Python 3 (ipykernel)",
   "language": "python",
   "name": "python3"
  },
  "language_info": {
   "codemirror_mode": {
    "name": "ipython",
    "version": 3
   },
   "file_extension": ".py",
   "mimetype": "text/x-python",
   "name": "python",
   "nbconvert_exporter": "python",
   "pygments_lexer": "ipython3",
   "version": "3.11.7"
  }
 },
 "nbformat": 4,
 "nbformat_minor": 5
}
